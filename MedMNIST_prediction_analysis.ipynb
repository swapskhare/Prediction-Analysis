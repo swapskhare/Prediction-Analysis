{
  "cells": [
    {
      "cell_type": "code",
      "execution_count": null,
      "metadata": {
        "id": "SiHSSIFSWaa0"
      },
      "outputs": [],
      "source": [
        "!pip install --upgrade git+https://github.com/MedMNIST/MedMNIST.git"
      ]
    },
    {
      "cell_type": "code",
      "execution_count": null,
      "metadata": {
        "id": "t0IZyszGlcBb"
      },
      "outputs": [],
      "source": [
        "import medmnist\n",
        "print(medmnist.__version__)\n",
        "from medmnist import INFO"
      ]
    },
    {
      "cell_type": "code",
      "execution_count": null,
      "metadata": {
        "id": "Na82B_26e0-2"
      },
      "outputs": [],
      "source": [
        "# Library imports:\n",
        "import torch\n",
        "import torch.nn as nn\n",
        "import torch.nn.functional as F\n",
        "from torchvision import transforms\n",
        "from medmnist import OCTMNIST\n",
        "from torch.utils.data import DataLoader\n",
        "import numpy as np\n",
        "from sklearn.metrics import confusion_matrix\n",
        "import seaborn as sns\n",
        "import matplotlib.pyplot as plt\n",
        "import copy\n",
        "from sklearn.metrics import confusion_matrix, precision_score, recall_score, f1_score, accuracy_score"
      ]
    },
    {
      "cell_type": "code",
      "execution_count": null,
      "metadata": {
        "id": "DH8QnYpbGQRY"
      },
      "outputs": [],
      "source": [
        "device = torch.device(\"cuda:0\" if torch.cuda.is_available() else \"cpu\")\n",
        "print(f\"Using device: {device}\")"
      ]
    },
    {
      "cell_type": "code",
      "execution_count": null,
      "metadata": {
        "id": "_7fr-C-y7zch"
      },
      "outputs": [],
      "source": [
        "# Normalizing the pixel values\n",
        "transform = transforms.Compose([\n",
        "    transforms.ToTensor(),\n",
        "    transforms.Normalize((0.5,), (0.5,))\n",
        "])\n",
        "\n",
        "# Load and preprocess the datasets\n",
        "train_dataset = OCTMNIST(split=\"train\", download=True, transform=transform)\n",
        "test_dataset = OCTMNIST(split=\"test\", download=True, transform=transform)\n",
        "val_dataset = OCTMNIST(split=\"val\", download=True, transform=transform)\n",
        "\n",
        "# CNN Model\n",
        "class BaseCNN(nn.Module):\n",
        "    def __init__(self):\n",
        "        super(BaseCNN, self).__init__()\n",
        "        self.conv1 = nn.Conv2d(1, 32, kernel_size=3, stride=1, padding=1)\n",
        "        self.conv2 = nn.Conv2d(32, 64, kernel_size=3, stride=1, padding=1)\n",
        "\n",
        "        self.fc1 = nn.Linear(64 * 7 * 7, 128)\n",
        "        self.fc2 = nn.Linear(128, 4)\n",
        "\n",
        "    def forward(self, x):\n",
        "        x = F.max_pool2d(F.relu(self.conv1(x)), 2)\n",
        "        x = F.max_pool2d(F.relu(self.conv2(x)), 2)\n",
        "        x = x.view(x.size(0), -1)\n",
        "        x = F.relu(self.fc1(x))\n",
        "        x = self.fc2(x)\n",
        "        return x\n",
        "\n",
        "model = BaseCNN()\n",
        "loss_function = nn.CrossEntropyLoss()\n",
        "optimizer = torch.optim.Adam(model.parameters(), lr=0.001)\n"
      ]
    },
    {
      "cell_type": "code",
      "execution_count": null,
      "metadata": {
        "id": "WsuStK8a8DRD"
      },
      "outputs": [],
      "source": [
        "print(train_dataset)"
      ]
    },
    {
      "cell_type": "code",
      "execution_count": null,
      "metadata": {
        "id": "NVwrCOBrjHua"
      },
      "outputs": [],
      "source": [
        "# Hyperparameters\n",
        "batch_size = 64\n",
        "num_epochs = 3\n",
        "learning_rate = 0.01"
      ]
    },
    {
      "cell_type": "code",
      "execution_count": null,
      "metadata": {
        "id": "tEq2UOpa9Xex"
      },
      "outputs": [],
      "source": [
        "# Data loaders\n",
        "train_loader = DataLoader(dataset=train_dataset, batch_size=batch_size, shuffle=True)\n",
        "val_loader = DataLoader(dataset=val_dataset, batch_size=batch_size, shuffle=False)\n",
        "\n",
        "# checking the labels column to see if squeeze is required\n",
        "images, labels = next(iter(train_loader))\n",
        "print(labels.shape)\n",
        "print(labels)"
      ]
    },
    {
      "cell_type": "code",
      "execution_count": null,
      "metadata": {
        "colab": {
          "base_uri": "https://localhost:8080/"
        },
        "id": "NO_NKzs78U7t",
        "outputId": "94900f3a-9a3c-4dd8-d586-c09f85223c30"
      },
      "outputs": [
        {
          "name": "stdout",
          "output_type": "stream",
          "text": [
            "Epoch [1/3], Loss: 0.6466, Accuracy: 76.5637\n",
            "Validation Loss: 0.4898, Accuracy: 82.8194\n",
            "Epoch [2/3], Loss: 0.4622, Accuracy: 83.5992\n",
            "Validation Loss: 0.4251, Accuracy: 84.6566\n"
          ]
        }
      ],
      "source": [
        "for epoch in range(num_epochs):\n",
        "    model.train()\n",
        "    total_train_loss = 0\n",
        "    total_correct = 0\n",
        "    total_images = 0\n",
        "\n",
        "    for images, labels in train_loader:\n",
        "        labels = labels.squeeze()\n",
        "\n",
        "        optimizer.zero_grad()\n",
        "        outputs = model(images)\n",
        "        loss = loss_function(outputs, labels)\n",
        "        loss.backward()\n",
        "        optimizer.step()\n",
        "\n",
        "        total_train_loss += loss.item()\n",
        "\n",
        "        _, predicted = torch.max(outputs.data, 1)\n",
        "        total_images += labels.size(0)\n",
        "        total_correct += (predicted == labels).sum().item()\n",
        "\n",
        "    train_accuracy = total_correct / total_images\n",
        "    avg_train_loss = total_train_loss / len(train_loader)\n",
        "\n",
        "\n",
        "    print(f'Epoch [{epoch+1}/{num_epochs}], Loss: {avg_train_loss:.4f}, Accuracy: {train_accuracy*100:.4f}')\n",
        "\n",
        "    model.eval()\n",
        "    total_val_loss = 0\n",
        "    total_correct = 0\n",
        "    total_images = 0\n",
        "    with torch.no_grad():\n",
        "      for images, labels in val_loader:\n",
        "          labels = labels.squeeze()\n",
        "\n",
        "          outputs = model(images)\n",
        "          loss = loss_function(outputs, labels)\n",
        "          total_val_loss += loss.item()\n",
        "\n",
        "          _, predicted = torch.max(outputs.data, 1)\n",
        "          total_correct += (predicted == labels).sum().item()\n",
        "\n",
        "    avg_val_loss = total_val_loss / len(val_loader)\n",
        "    val_accuracy = total_correct / len(val_dataset)\n",
        "    print(f'Validation Loss: {avg_val_loss:.4f}, Accuracy: {val_accuracy*100:.4f}')"
      ]
    },
    {
      "cell_type": "code",
      "execution_count": null,
      "metadata": {
        "id": "UrITvDHJlH49"
      },
      "outputs": [],
      "source": [
        "test_loader = DataLoader(dataset=test_dataset, batch_size=batch_size, shuffle=False)\n",
        "\n",
        "model.eval()\n",
        "total_correct = 0\n",
        "total_images = 0\n",
        "actuals = []\n",
        "predictions = []\n",
        "\n",
        "with torch.no_grad():\n",
        "    for images, labels in test_loader:\n",
        "        labels = labels.squeeze()\n",
        "\n",
        "        outputs = model(images)\n",
        "        _, predicted = torch.max(outputs.data, 1)\n",
        "\n",
        "        total_images += labels.size(0)\n",
        "        total_correct += (predicted == labels).sum().item()\n",
        "\n",
        "        actuals.extend(labels.cpu().numpy())\n",
        "        predictions.extend(predicted.cpu().numpy())\n",
        "\n",
        "\n",
        "# Test accuracy\n",
        "test_accuracy = total_correct / total_images\n",
        "print(f'Test Accuracy: {test_accuracy*100:.4f}')\n",
        "\n",
        "\n",
        "# Confusion matrix\n",
        "cm = confusion_matrix(actuals, predictions)\n",
        "\n",
        "plt.figure(figsize=(10, 8))\n",
        "sns.heatmap(cm, annot=True, fmt='d', cmap='Blues', xticklabels=True, yticklabels=True)\n",
        "plt.title('Confusion Matrix')\n",
        "plt.ylabel('Actual Labels')\n",
        "plt.xlabel('Predicted Labels')\n",
        "plt.show()\n"
      ]
    },
    {
      "cell_type": "markdown",
      "metadata": {
        "id": "SlVlWd4Avbeo"
      },
      "source": [
        "L2 Regularisation"
      ]
    },
    {
      "cell_type": "code",
      "execution_count": null,
      "metadata": {
        "id": "Gm8-zuOOuX-k"
      },
      "outputs": [],
      "source": [
        "optimizer = torch.optim.Adam(model.parameters(), lr=0.001, weight_decay=1e-5)\n",
        "for epoch in range(num_epochs):\n",
        "    model.train()\n",
        "    total_train_loss = 0\n",
        "    total_correct = 0\n",
        "    total_images = 0\n",
        "\n",
        "    for images, labels in train_loader:\n",
        "        labels = labels.squeeze()\n",
        "\n",
        "        optimizer.zero_grad()\n",
        "        outputs = model(images)\n",
        "        loss = loss_function(outputs, labels)\n",
        "        loss.backward()\n",
        "        optimizer.step()\n",
        "\n",
        "        total_train_loss += loss.item()\n",
        "\n",
        "        _, predicted = torch.max(outputs.data, 1)\n",
        "        total_images += labels.size(0)\n",
        "        total_correct += (predicted == labels).sum().item()\n",
        "\n",
        "    avg_train_loss = total_train_loss / len(train_loader)\n",
        "    train_accuracy = total_correct / total_images\n",
        "\n",
        "    print(f'Epoch [{epoch+1}/{num_epochs}], Loss: {avg_train_loss:.4f}, Accuracy: {train_accuracy*100:.4f}')\n",
        "\n",
        "    model.eval()\n",
        "    total_val_loss = 0\n",
        "    total_correct = 0\n",
        "    total_images = 0\n",
        "    with torch.no_grad():\n",
        "      for images, labels in val_loader:\n",
        "          labels = labels.squeeze()\n",
        "\n",
        "          outputs = model(images)\n",
        "          loss = loss_function(outputs, labels)\n",
        "          total_val_loss += loss.item()\n",
        "\n",
        "          _, predicted = torch.max(outputs.data, 1)\n",
        "          total_correct += (predicted == labels).sum().item()\n",
        "\n",
        "    avg_val_loss = total_val_loss / len(val_loader)\n",
        "    val_accuracy = total_correct / len(val_dataset)\n",
        "    print(f'Validation Loss: {avg_val_loss:.4f}, Accuracy: {val_accuracy*100:.4f}')\n",
        "\n"
      ]
    },
    {
      "cell_type": "code",
      "execution_count": null,
      "metadata": {
        "id": "xALzRouiPTow"
      },
      "outputs": [],
      "source": [
        "model.eval()\n",
        "\n",
        "actuals = []\n",
        "predictions = []\n",
        "\n",
        "with torch.no_grad():\n",
        "    for images, labels in test_loader:\n",
        "        labels = labels.squeeze()\n",
        "\n",
        "        outputs = model(images)\n",
        "        _, predicted = torch.max(outputs, 1)\n",
        "\n",
        "        actuals.extend(labels.cpu().numpy())\n",
        "        predictions.extend(predicted.cpu().numpy())\n",
        "\n",
        "actuals = np.array(actuals)\n",
        "predictions = np.array(predictions)\n",
        "\n",
        "accuracy = (actuals == predictions).mean()\n",
        "\n",
        "print(f'testing Accuracy: {accuracy*100:.4f}')\n",
        "\n",
        "# Confusion matrix\n",
        "cm = confusion_matrix(actuals, predictions)\n",
        "\n",
        "plt.figure(figsize=(10, 8))\n",
        "sns.heatmap(cm, annot=True, fmt='d', cmap='Blues', xticklabels=True, yticklabels=True)\n",
        "plt.title('Confusion Matrix')\n",
        "plt.ylabel('Actual Labels')\n",
        "plt.xlabel('Predicted Labels')\n",
        "plt.show()\n"
      ]
    },
    {
      "cell_type": "markdown",
      "metadata": {
        "id": "o6zyJqZAvq_q"
      },
      "source": [
        "Dropout"
      ]
    },
    {
      "cell_type": "code",
      "execution_count": null,
      "metadata": {
        "id": "VNgHUO05v2FB"
      },
      "outputs": [],
      "source": [
        "import torch\n",
        "import torch.nn as nn\n",
        "import torch.nn.functional as F\n",
        "\n",
        "class CNNwDrop(nn.Module):\n",
        "    def __init__(self):\n",
        "        super(CNNwDrop, self).__init__()\n",
        "        self.conv1 = nn.Conv2d(1, 32, kernel_size=3, stride=1, padding=1)\n",
        "        self.conv2 = nn.Conv2d(32, 64, kernel_size=3, stride=1, padding=1)\n",
        "\n",
        "        self.fc1 = nn.Linear(64 * 7 * 7, 128)\n",
        "        self.dropout = nn.Dropout(0.5)\n",
        "        self.fc2 = nn.Linear(128, 4)\n",
        "\n",
        "    def forward(self, x):\n",
        "        x = F.max_pool2d(F.relu(self.conv1(x)), 2)\n",
        "        x = F.max_pool2d(F.relu(self.conv2(x)), 2)\n",
        "        x = x.view(x.size(0), -1)\n",
        "        x = F.relu(self.fc1(x))\n",
        "        x = self.dropout(x)\n",
        "        x = self.fc2(x)\n",
        "\n",
        "        return x"
      ]
    },
    {
      "cell_type": "code",
      "execution_count": null,
      "metadata": {
        "id": "Arui984gOSQI"
      },
      "outputs": [],
      "source": [
        "model = CNNwDrop()\n",
        "\n",
        "loss_function = nn.CrossEntropyLoss()\n",
        "optimizer = torch.optim.Adam(model.parameters(), lr=0.001, weight_decay=1e-5)\n",
        "for epoch in range(num_epochs):\n",
        "    model.train()\n",
        "    total_train_loss = 0\n",
        "    total_correct = 0\n",
        "    total_images = 0\n",
        "\n",
        "    for images, labels in train_loader:\n",
        "        labels = labels.squeeze()\n",
        "\n",
        "        optimizer.zero_grad()\n",
        "        outputs = model(images)\n",
        "        loss = loss_function(outputs, labels)\n",
        "        loss.backward()\n",
        "        optimizer.step()\n",
        "\n",
        "        total_train_loss += loss.item()\n",
        "\n",
        "        _, predicted = torch.max(outputs.data, 1)\n",
        "        total_images += labels.size(0)\n",
        "        total_correct += (predicted == labels).sum().item()\n",
        "\n",
        "    avg_train_loss = total_train_loss / len(train_loader)\n",
        "    train_accuracy = total_correct / total_images\n",
        "\n",
        "    print(f'Epoch [{epoch+1}/{num_epochs}], Loss: {avg_train_loss:.4f}, Accuracy: {train_accuracy*100:.4f}')\n",
        "\n",
        "    model.eval()\n",
        "    total_val_loss = 0\n",
        "    total_correct = 0\n",
        "    total_images = 0\n",
        "    with torch.no_grad():\n",
        "      for images, labels in val_loader:\n",
        "          labels = labels.squeeze()\n",
        "\n",
        "          outputs = model(images)\n",
        "          loss = loss_function(outputs, labels)\n",
        "          total_val_loss += loss.item()\n",
        "\n",
        "          _, predicted = torch.max(outputs.data, 1)\n",
        "          total_correct += (predicted == labels).sum().item()\n",
        "\n",
        "    avg_val_loss = total_val_loss / len(val_loader)\n",
        "    val_accuracy = total_correct / len(val_dataset)\n",
        "    print(f'Validation Loss: {avg_val_loss:.4f}, Accuracy: {val_accuracy*100:.4f}')\n"
      ]
    },
    {
      "cell_type": "code",
      "execution_count": null,
      "metadata": {
        "id": "7PV0_poIOhG8"
      },
      "outputs": [],
      "source": [
        "import numpy as np\n",
        "from sklearn.metrics import confusion_matrix\n",
        "import seaborn as sns\n",
        "import matplotlib.pyplot as plt\n",
        "\n",
        "model.eval()\n",
        "\n",
        "actuals = []\n",
        "predictions = []\n",
        "\n",
        "with torch.no_grad():\n",
        "    for images, labels in test_loader:\n",
        "        labels = labels.squeeze()\n",
        "\n",
        "        outputs = model(images)\n",
        "        _, predicted = torch.max(outputs, 1)\n",
        "\n",
        "        actuals.extend(labels.cpu().numpy())\n",
        "        predictions.extend(predicted.cpu().numpy())\n",
        "\n",
        "actuals = np.array(actuals)\n",
        "predictions = np.array(predictions)\n",
        "\n",
        "accuracy = (actuals == predictions).mean()\n",
        "\n",
        "print(f'Test Accuracy: {accuracy*100:.4f}')\n",
        "\n",
        "#Confusion Matrix\n",
        "cm = confusion_matrix(actuals, predictions)\n",
        "plt.figure(figsize=(10, 8))\n",
        "sns.heatmap(cm, annot=True, fmt='d', cmap='Blues', xticklabels=True, yticklabels=True)\n",
        "plt.title('Confusion Matrix')\n",
        "plt.ylabel('Actual Labels')\n",
        "plt.xlabel('Predicted Labels')\n",
        "plt.show()\n"
      ]
    },
    {
      "cell_type": "markdown",
      "metadata": {
        "id": "8F7kyT27v7st"
      },
      "source": [
        "Early Stopping"
      ]
    },
    {
      "cell_type": "code",
      "execution_count": null,
      "metadata": {
        "colab": {
          "background_save": true,
          "base_uri": "https://localhost:8080/"
        },
        "id": "NrmAfb7Gv_tJ",
        "outputId": "2d72bb31-945a-466c-e46f-bef408d5619a"
      },
      "outputs": [
        {
          "name": "stdout",
          "output_type": "stream",
          "text": [
            "Epoch [1/10], Loss: 0.2460, Accuracy: 91.3282\n",
            "Validation loss decreased (0.272153 --> 0.272153).Model Saved\n",
            "Epoch [2/10], Loss: 0.2394, Accuracy: 91.5734\n",
            "patience counter: 1\n",
            "Epoch [3/10], Loss: 0.2306, Accuracy: 91.8883\n",
            "patience counter: 2\n",
            "Epoch [4/10], Loss: 0.2235, Accuracy: 92.1469\n",
            "Validation loss decreased (0.269437 --> 0.269437).Model Saved\n",
            "Epoch [5/10], Loss: 0.2161, Accuracy: 92.3664\n",
            "Validation loss decreased (0.265667 --> 0.265667).Model Saved\n",
            "Epoch [6/10], Loss: 0.2117, Accuracy: 92.5829\n",
            "Validation loss decreased (0.265235 --> 0.265235).Model Saved\n",
            "Epoch [7/10], Loss: 0.2053, Accuracy: 92.8034\n",
            "patience counter: 1\n",
            "Epoch [8/10], Loss: 0.2000, Accuracy: 92.9604\n",
            "patience counter: 2\n",
            "Epoch [9/10], Loss: 0.1966, Accuracy: 93.0178\n",
            "Validation loss decreased (0.260684 --> 0.260684).Model Saved\n",
            "Epoch [10/10], Loss: 0.1882, Accuracy: 93.3379\n",
            "patience counter: 1\n"
          ]
        },
        {
          "data": {
            "image/png": "[encoded data removed]",
            "text/plain": [
              "<Figure size 1200x500 with 2 Axes>"
            ]
          },
          "metadata": {},
          "output_type": "display_data"
        },
        {
          "data": {
            "image/png": "[encoded data removed]",
            "text/plain": [
              "<Figure size 800x600 with 2 Axes>"
            ]
          },
          "metadata": {},
          "output_type": "display_data"
        },
        {
          "name": "stdout",
          "output_type": "stream",
          "text": [
            "Accuracy: 0.6650\n",
            "Precision: 0.7819, Recall: 0.7170, F1 Score: 0.6810\n"
          ]
        }
      ],
      "source": [
        "optimizer = torch.optim.Adam(model.parameters(), lr=0.001, weight_decay=1e-5)\n",
        "loss_function = nn.CrossEntropyLoss()\n",
        "model = CNNwDrop()\n",
        "train_accs, val_accs = [], []\n",
        "train_losses, val_losses = [], []\n",
        "\n",
        "best_val_loss = float('inf')\n",
        "patience = 5\n",
        "num_epochs = 15\n",
        "patience_counter = 0\n",
        "\n",
        "\n",
        "for epoch in range(num_epochs):\n",
        "    model.train()\n",
        "    total_train_loss = 0\n",
        "    total_correct = 0\n",
        "    total_images = 0\n",
        "\n",
        "    for images, labels in train_loader:\n",
        "        labels = labels.squeeze()\n",
        "\n",
        "        optimizer.zero_grad()\n",
        "        outputs = model(images)\n",
        "        loss = loss_function(outputs, labels)\n",
        "        loss.backward()\n",
        "        optimizer.step()\n",
        "\n",
        "        total_train_loss += loss.item()\n",
        "\n",
        "        _, predicted = torch.max(outputs.data, 1)\n",
        "        total_images += labels.size(0)\n",
        "        total_correct += (predicted == labels).sum().item()\n",
        "\n",
        "    avg_train_loss = total_train_loss / len(train_loader)\n",
        "    train_accuracy = total_correct / total_images\n",
        "    train_accs.append(train_accuracy)\n",
        "    train_losses.append(avg_train_loss)\n",
        "\n",
        "    print(f'Epoch [{epoch+1}/{num_epochs}], Loss: {avg_train_loss:.4f}, Accuracy: {train_accuracy*100:.4f}')\n",
        "\n",
        "    # Validation loop\n",
        "    model.eval()\n",
        "    total_val_loss = 0\n",
        "    with torch.no_grad():\n",
        "        for images, labels in val_loader:\n",
        "            labels = labels.squeeze()\n",
        "            outputs = model(images)\n",
        "            loss = loss_function(outputs, labels)\n",
        "            total_val_loss += loss.item()\n",
        "\n",
        "    avg_val_loss = total_val_loss / len(val_loader)\n",
        "    val_accuracy = total_correct / len(val_dataset)\n",
        "    val_accs.append(val_accuracy)\n",
        "    val_losses.append(avg_val_loss)\n",
        "\n",
        "    # Early stopping\n",
        "    if avg_val_loss < best_val_loss:\n",
        "        best_val_loss = avg_val_loss\n",
        "        best_model_state = copy.deepcopy(model.state_dict())\n",
        "        patience_counter = 0\n",
        "        print(f'Validation loss decreased ({best_val_loss:.6f} --> {avg_val_loss:.6f}).Model Saved')\n",
        "    else:\n",
        "        patience_counter += 1\n",
        "        print(f'patience counter: {patience_counter}')\n",
        "        if patience_counter >= patience:\n",
        "            print('Early stopping!')\n",
        "            break\n",
        "\n",
        "# model.load_state_dict(best_model_state)\n",
        "\n",
        "# plt.figure(figsize=(12, 5))\n",
        "# plt.subplot(1, 2, 1)\n",
        "# plt.plot(train_accs, label='Training Accuracy')\n",
        "# plt.plot(val_accs, label='Validation Accuracy')\n",
        "# plt.xlabel('Epoch')\n",
        "# plt.ylabel('Accuracy')\n",
        "# plt.title('Training and Validation Accuracy')\n",
        "# plt.legend()\n",
        "\n",
        "# plt.subplot(1, 2, 2)\n",
        "# plt.plot(train_losses, label='Training Loss')\n",
        "# plt.plot(val_losses, label='Validation Loss')\n",
        "# plt.xlabel('Epoch')\n",
        "# plt.ylabel('Loss')\n",
        "# plt.title('Training and Validation Loss')\n",
        "# plt.legend()\n",
        "\n",
        "# plt.show()\n",
        "\n",
        "\n",
        "# #Confusion Matrix\n",
        "# model.eval()\n",
        "# y_true = []\n",
        "# y_pred = []\n",
        "# with torch.no_grad():\n",
        "#     for images, labels in test_loader:\n",
        "#         labels = labels.squeeze()\n",
        "#         outputs = model(images)\n",
        "#         _, predicted = torch.max(outputs, 1)\n",
        "#         y_true.extend(labels.cpu().numpy())\n",
        "#         y_pred.extend(predicted.cpu().numpy())\n",
        "\n",
        "# cm = confusion_matrix(y_true, y_pred)\n",
        "# plt.figure(figsize=(8, 6))\n",
        "# sns.heatmap(cm, annot=True, fmt='d', cmap='Blues', xticklabels=True, yticklabels=True)\n",
        "# plt.title('Confusion Matrix')\n",
        "# plt.ylabel('Actual Labels')\n",
        "# plt.xlabel('Predicted Labels')\n",
        "# plt.show()\n",
        "\n",
        "# # Precision, Recall, and F1 Score\n",
        "# print(f'Accuracy: {accuracy:.4f}')\n",
        "# precision = precision_score(y_true, y_pred, average='macro')\n",
        "# recall = recall_score(y_true, y_pred, average='macro')\n",
        "# f1 = f1_score(y_true, y_pred, average='macro')\n",
        "\n",
        "# print(f'Precision: {precision:.4f}, Recall: {recall:.4f}, F1 Score: {f1:.4f}')\n"
      ]
    },
    {
      "cell_type": "code",
      "execution_count": null,
      "metadata": {
        "id": "azC1EmT60R1i"
      },
      "outputs": [],
      "source": [
        "model.load_state_dict(best_model_state)\n",
        "\n",
        "test_loader = DataLoader(dataset=test_dataset, batch_size=batch_size, shuffle=False)\n",
        "\n",
        "plt.figure(figsize=(12, 5))\n",
        "plt.subplot(1, 2, 1)\n",
        "plt.plot(train_accs, label='Training Accuracy')\n",
        "plt.plot(val_accs, label='Validation Accuracy')\n",
        "plt.xlabel('Epoch')\n",
        "plt.ylabel('Accuracy')\n",
        "plt.title('Training and Validation Accuracy')\n",
        "plt.legend()\n",
        "\n",
        "plt.subplot(1, 2, 2)\n",
        "plt.plot(train_losses, label='Training Loss')\n",
        "plt.plot(val_losses, label='Validation Loss')\n",
        "plt.xlabel('Epoch')\n",
        "plt.ylabel('Loss')\n",
        "plt.title('Training and Validation Loss')\n",
        "plt.legend()\n",
        "\n",
        "plt.show()\n",
        "\n",
        "\n",
        "#Confusion Matrix\n",
        "model.eval()\n",
        "y_true = []\n",
        "y_pred = []\n",
        "with torch.no_grad():\n",
        "    for images, labels in test_loader:\n",
        "        labels = labels.squeeze()\n",
        "        outputs = model(images)\n",
        "        _, predicted = torch.max(outputs, 1)\n",
        "        y_true.extend(labels.cpu().numpy())\n",
        "        y_pred.extend(predicted.cpu().numpy())\n",
        "\n",
        "cm = confusion_matrix(y_true, y_pred)\n",
        "plt.figure(figsize=(8, 6))\n",
        "sns.heatmap(cm, annot=True, fmt='d', cmap='Blues', xticklabels=True, yticklabels=True)\n",
        "plt.title('Confusion Matrix')\n",
        "plt.ylabel('Actual Labels')\n",
        "plt.xlabel('Predicted Labels')\n",
        "plt.show()\n",
        "\n",
        "accuracy = (y_true == y_pred).mean()\n",
        "\n",
        "# Precision, Recall, and F1 Score\n",
        "print(f'Accuracy: {accuracy:.4f}')\n",
        "precision = precision_score(y_true, y_pred, average='macro')\n",
        "recall = recall_score(y_true, y_pred, average='macro')\n",
        "f1 = f1_score(y_true, y_pred, average='macro')\n",
        "\n",
        "print(f'Precision: {precision:.4f}, Recall: {recall:.4f}, F1 Score: {f1:.4f}')"
      ]
    },
    {
      "cell_type": "code",
      "execution_count": null,
      "metadata": {
        "id": "yeF_16zWPGpl"
      },
      "outputs": [],
      "source": [
        "torch.save(model.state_dict(), \"/content/model_weights.pkl\")"
      ]
    },
    {
      "cell_type": "code",
      "execution_count": null,
      "metadata": {
        "id": "YKemgJENfFcp"
      },
      "outputs": [],
      "source": [
        "torch.save(model.state_dict(), \"/content/model_weights.h5\")"
      ]
    },
    {
      "cell_type": "markdown",
      "metadata": {
        "id": "NBd4JtGijr06"
      },
      "source": [
        "References:\n",
        "https://github.com/MedMNIST/MedMNIST\n",
        "\n",
        "Pytorch:\n",
        "https://pytorch.org/docs/stable/index.html\n",
        "\n",
        "Matplotlib: https://matplotlib.org/stable/tutorials/index\n",
        "\n",
        "https://pytorch.org/vision/0.9/transforms.html\n",
        "\n",
        "https://pytorch.org/tutorials/beginner/basics/data_tutorial.html\n",
        "\n",
        "https://scikit-learn.org/stable/modules/classes.html#module-sklearn.metrics\n",
        "\n",
        "https://pytorch.org/docs/stable/generated/torch.nn.Dropout.html\n",
        "\n",
        "Some parts of the code like training, evaluation, testing loops are referenced from DL Assignment 0 Part 1 Step 3 Pytorch tutorials.\n",
        "\n",
        "'macro':\n",
        "Calculate metrics for each label, and find their unweighted mean. This does not take label imbalance into account."
      ]
    }
  ],
  "metadata": {
    "colab": {
      "provenance": []
    },
    "kernelspec": {
      "display_name": "Python 3",
      "name": "python3"
    },
    "language_info": {
      "name": "python"
    }
  },
  "nbformat": 4,
  "nbformat_minor": 0
}